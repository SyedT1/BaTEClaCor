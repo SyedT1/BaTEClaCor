{
 "cells": [
  {
   "cell_type": "code",
   "execution_count": 1,
   "id": "bd5018ba-c921-4f75-a1f2-08197cb21b19",
   "metadata": {
    "tags": []
   },
   "outputs": [],
   "source": [
    "import pandas as pd\n",
    "from sklearn.feature_extraction.text import TfidfVectorizer\n",
    "from sklearn import metrics\n",
    "from sklearn.preprocessing import LabelEncoder\n",
    "from sklearn import model_selection, naive_bayes, svm\n",
    "from sklearn.metrics import accuracy_score\n",
    "train_url = '/home/thinker/NLP/NLP/FromScratch/error detection/data/data/train_data.csv'\n",
    "test_url = '/home/thinker/NLP/NLP/FromScratch/error detection/data/data/test_data.csv'\n",
    "df_train = pd.read_csv(train_url)\n",
    "df_test = pd.read_csv(test_url)\n",
    "stop_words_df = pd.read_excel('/home/thinker/NLP/NLP/FromScratch/error detection/data/stopwords_bangla.xlsx',index_col=False)"
   ]
  },
  {
   "cell_type": "code",
   "execution_count": 2,
   "id": "9984917d-8f1e-4e13-bb61-fa28717e62d3",
   "metadata": {
    "tags": []
   },
   "outputs": [],
   "source": [
    "STOPWORDS = set([word.strip() for word in stop_words_df['words']])"
   ]
  },
  {
   "cell_type": "code",
   "execution_count": 3,
   "id": "df6d0a4f-41e7-4ad1-a3b0-016738e227ab",
   "metadata": {
    "tags": []
   },
   "outputs": [],
   "source": [
    "import re\n",
    "def preprocess(x):\n",
    "    html_pattern = re.compile('<.*?>')\n",
    "    x = html_pattern.sub(r'', x)\n",
    "    x = \" \".join([word for word in str(x).split() if word not in STOPWORDS])\n",
    "    return x\n",
    "df_train['Comment'] = df_train['Comment'].apply(lambda x: preprocess(x))\n",
    "df_test['Comment'] = df_test['Comment'].apply(lambda x:preprocess(x))"
   ]
  },
  {
   "cell_type": "code",
   "execution_count": 4,
   "id": "f7b0599f-423a-4454-8849-6039a24f55bc",
   "metadata": {
    "tags": []
   },
   "outputs": [],
   "source": [
    "Encoder = LabelEncoder()\n",
    "Train_Y = Encoder.fit_transform(df_train.Error)\n",
    "Test_Y = Encoder.fit_transform(df_test.Error)"
   ]
  },
  {
   "cell_type": "code",
   "execution_count": 5,
   "id": "97c66280-1ad5-4753-9741-4deea78b6dec",
   "metadata": {
    "tags": []
   },
   "outputs": [],
   "source": [
    "df_all  = pd.concat([df_train, df_test], ignore_index=True)\n",
    "Tfidf_vect = TfidfVectorizer(max_features=5000)\n",
    "Tfidf_vect.fit(df_all['Comment'])\n",
    "Train_X_Tfidf = Tfidf_vect.transform(df_train['Comment'])\n",
    "Test_X_Tfidf = Tfidf_vect.transform(df_test['Comment'])"
   ]
  },
  {
   "cell_type": "code",
   "execution_count": 6,
   "id": "e19fd38d-5278-4eff-bebe-cee4a56614a6",
   "metadata": {
    "tags": []
   },
   "outputs": [],
   "source": [
    "Naive = naive_bayes.MultinomialNB()\n",
    "Naive.fit(Train_X_Tfidf,Train_Y)\n",
    "predictions_NB = Naive.predict(Test_X_Tfidf)"
   ]
  },
  {
   "cell_type": "code",
   "execution_count": 7,
   "id": "15673495-99fe-4d7d-9eeb-4936d1b9a3dc",
   "metadata": {
    "tags": []
   },
   "outputs": [
    {
     "name": "stdout",
     "output_type": "stream",
     "text": [
      "              precision    recall  f1-score   support\n",
      "\n",
      "           0     0.6301    0.8817    0.7350      1167\n",
      "           1     0.6349    0.2844    0.3928       844\n",
      "\n",
      "    accuracy                         0.6310      2011\n",
      "   macro avg     0.6325    0.5831    0.5639      2011\n",
      "weighted avg     0.6321    0.6310    0.5914      2011\n",
      "\n"
     ]
    }
   ],
   "source": [
    "print(metrics.classification_report(Test_Y, predictions_NB,digits = 4))"
   ]
  }
 ],
 "metadata": {
  "kernelspec": {
   "display_name": "Python 3 (ipykernel)",
   "language": "python",
   "name": "python3"
  },
  "language_info": {
   "codemirror_mode": {
    "name": "ipython",
    "version": 3
   },
   "file_extension": ".py",
   "mimetype": "text/x-python",
   "name": "python",
   "nbconvert_exporter": "python",
   "pygments_lexer": "ipython3",
   "version": "3.11.3"
  }
 },
 "nbformat": 4,
 "nbformat_minor": 5
}
