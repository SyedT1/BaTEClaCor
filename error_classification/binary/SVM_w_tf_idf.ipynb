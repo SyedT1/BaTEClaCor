{
 "cells": [
  {
   "cell_type": "code",
   "execution_count": 1,
   "id": "bd5018ba-c921-4f75-a1f2-08197cb21b19",
   "metadata": {
    "tags": []
   },
   "outputs": [],
   "source": [
    "import pandas as pd\n",
    "from sklearn.feature_extraction.text import TfidfVectorizer\n",
    "from sklearn import metrics\n",
    "from sklearn.preprocessing import LabelEncoder\n",
    "from sklearn import model_selection, naive_bayes, svm\n",
    "from sklearn.metrics import accuracy_score\n",
    "train_url = '/home/thinker/NLP/NLP/FromScratch/error detection/data/data/train_data.csv'\n",
    "test_url = '/home/thinker/NLP/NLP/FromScratch/error detection/data/data/test_data.csv'\n",
    "df_train = pd.read_csv(train_url)\n",
    "df_test = pd.read_csv(test_url)\n",
    "stop_words_df = pd.read_excel('/home/thinker/NLP/NLP/FromScratch/error detection/data/stopwords_bangla.xlsx',index_col=False)"
   ]
  },
  {
   "cell_type": "code",
   "execution_count": 2,
   "id": "9984917d-8f1e-4e13-bb61-fa28717e62d3",
   "metadata": {
    "tags": []
   },
   "outputs": [],
   "source": [
    "STOPWORDS = set([word.strip() for word in stop_words_df['words']])"
   ]
  },
  {
   "cell_type": "code",
   "execution_count": 3,
   "id": "df6d0a4f-41e7-4ad1-a3b0-016738e227ab",
   "metadata": {
    "tags": []
   },
   "outputs": [],
   "source": [
    "import re\n",
    "def preprocess(x):\n",
    "    html_pattern = re.compile('<.*?>')\n",
    "    x = html_pattern.sub(r'', x)\n",
    "    x = \" \".join([word for word in str(x).split() if word not in STOPWORDS])\n",
    "    return x\n",
    "df_train['Comment'] = df_train['Comment'].apply(lambda x: preprocess(x))\n",
    "df_test['Comment'] = df_test['Comment'].apply(lambda x:preprocess(x))"
   ]
  },
  {
   "cell_type": "code",
   "execution_count": 4,
   "id": "52663cd8-3d13-4eab-81c3-2e7612faff9b",
   "metadata": {
    "tags": []
   },
   "outputs": [
    {
     "data": {
      "text/html": [
       "<div>\n",
       "<style scoped>\n",
       "    .dataframe tbody tr th:only-of-type {\n",
       "        vertical-align: middle;\n",
       "    }\n",
       "\n",
       "    .dataframe tbody tr th {\n",
       "        vertical-align: top;\n",
       "    }\n",
       "\n",
       "    .dataframe thead th {\n",
       "        text-align: right;\n",
       "    }\n",
       "</style>\n",
       "<table border=\"1\" class=\"dataframe\">\n",
       "  <thead>\n",
       "    <tr style=\"text-align: right;\">\n",
       "      <th></th>\n",
       "      <th>Video Title</th>\n",
       "      <th>Genre</th>\n",
       "      <th>Comment</th>\n",
       "      <th>Error</th>\n",
       "      <th>Category</th>\n",
       "      <th>Correct form</th>\n",
       "    </tr>\n",
       "  </thead>\n",
       "  <tbody>\n",
       "    <tr>\n",
       "      <th>0</th>\n",
       "      <td>'নেত্রীর কথা শুনলে এখন হাজার হাজার শ্রমিক রাস্...</td>\n",
       "      <td>Politics</td>\n",
       "      <td>আওয়ামী লীগের এতো লোক ভয় পায়</td>\n",
       "      <td>0</td>\n",
       "      <td>NaN</td>\n",
       "      <td>NaN</td>\n",
       "    </tr>\n",
       "    <tr>\n",
       "      <th>1</th>\n",
       "      <td>RedMagic 8 Pro দেখে আমি তো অবাক 😮</td>\n",
       "      <td>Miscellaneous</td>\n",
       "      <td>প্রাইস বললে হতো রে ইমন</td>\n",
       "      <td>1</td>\n",
       "      <td>Code Switching</td>\n",
       "      <td>দাম টা বললে কি হতো রে ইমন</td>\n",
       "    </tr>\n",
       "    <tr>\n",
       "      <th>2</th>\n",
       "      <td>অস্থির বাঙালি Part 35😂 osthir bengali | funny ...</td>\n",
       "      <td>Entertainment</td>\n",
       "      <td>সুন্দর হাসি ভালো লাগল</td>\n",
       "      <td>1</td>\n",
       "      <td>Spelling</td>\n",
       "      <td>এত সুন্দর হাসি ভালো লাগলো</td>\n",
       "    </tr>\n",
       "    <tr>\n",
       "      <th>3</th>\n",
       "      <td>দেশে প্রথমবারের মতো চ্যানেল 24-এর পর্দায় সংবাদ...</td>\n",
       "      <td>News</td>\n",
       "      <td>সময় এসেছে আপনাদেরকে বিদায় জানাবার</td>\n",
       "      <td>0</td>\n",
       "      <td>NaN</td>\n",
       "      <td>NaN</td>\n",
       "    </tr>\n",
       "    <tr>\n",
       "      <th>4</th>\n",
       "      <td>মীনা, রাজু, মিঠুর মিমিক্রি করে তাক লাগিয়ে দিয়ে...</td>\n",
       "      <td>Entertainment</td>\n",
       "      <td>চুল একটু বড় ভালো না</td>\n",
       "      <td>1</td>\n",
       "      <td>Spelling</td>\n",
       "      <td>চুল একটু বড় হলে ভালো হতো না</td>\n",
       "    </tr>\n",
       "    <tr>\n",
       "      <th>...</th>\n",
       "      <td>...</td>\n",
       "      <td>...</td>\n",
       "      <td>...</td>\n",
       "      <td>...</td>\n",
       "      <td>...</td>\n",
       "      <td>...</td>\n",
       "    </tr>\n",
       "    <tr>\n",
       "      <th>2006</th>\n",
       "      <td>ভাইভা দিতে গিয়ে উল্টো ভাইভা নিলেন মোশাররফ</td>\n",
       "      <td>Entertainment</td>\n",
       "      <td>এইরকম জীবনেও চাকরী না</td>\n",
       "      <td>0</td>\n",
       "      <td>NaN</td>\n",
       "      <td>NaN</td>\n",
       "    </tr>\n",
       "    <tr>\n",
       "      <th>2007</th>\n",
       "      <td>জিয়াউর রহমান: বিএনপির প্রতিষ্ঠাতা ও সাবেক রাষ...</td>\n",
       "      <td>Politics</td>\n",
       "      <td>ঘটনায় আপনাদের সাংবাদিক কুমিল্লায় তথ্য যাইনি</td>\n",
       "      <td>0</td>\n",
       "      <td>NaN</td>\n",
       "      <td>NaN</td>\n",
       "    </tr>\n",
       "    <tr>\n",
       "      <th>2008</th>\n",
       "      <td>খালেদা জিয়া’র ব্যাপারে আর কত করবো ? প্রশ্ন প্র...</td>\n",
       "      <td>Politics</td>\n",
       "      <td>করব মরলনা</td>\n",
       "      <td>1</td>\n",
       "      <td>Spelling</td>\n",
       "      <td>আর কত করবো তাও তো মরলো না</td>\n",
       "    </tr>\n",
       "    <tr>\n",
       "      <th>2009</th>\n",
       "      <td>হাবলংগের বাজারে | Hablonger Bazare | Humayun A...</td>\n",
       "      <td>Entertainment</td>\n",
       "      <td>হুমায়ূন আহমেদের তৈরি সোনার কাল্পনিক বাংলাদেশ ...</td>\n",
       "      <td>0</td>\n",
       "      <td>NaN</td>\n",
       "      <td>NaN</td>\n",
       "    </tr>\n",
       "    <tr>\n",
       "      <th>2010</th>\n",
       "      <td>বাধ্য হয়েই সুযোগ দেয়া হয়েছে তামিমকে ? | Tamim ...</td>\n",
       "      <td>Sports</td>\n",
       "      <td>একটা প্লেয়ার খেলবে ভালো কথা আনবে শুনবে দেখবে ...</td>\n",
       "      <td>1</td>\n",
       "      <td>Multiple Errors</td>\n",
       "      <td>নতুন একটা খেলোয়াড় খেলবে ভালো কথা আনবে শুনবে দে...</td>\n",
       "    </tr>\n",
       "  </tbody>\n",
       "</table>\n",
       "<p>2011 rows × 6 columns</p>\n",
       "</div>"
      ],
      "text/plain": [
       "                                            Video Title          Genre  \\\n",
       "0     'নেত্রীর কথা শুনলে এখন হাজার হাজার শ্রমিক রাস্...       Politics   \n",
       "1                     RedMagic 8 Pro দেখে আমি তো অবাক 😮  Miscellaneous   \n",
       "2     অস্থির বাঙালি Part 35😂 osthir bengali | funny ...  Entertainment   \n",
       "3     দেশে প্রথমবারের মতো চ্যানেল 24-এর পর্দায় সংবাদ...           News   \n",
       "4     মীনা, রাজু, মিঠুর মিমিক্রি করে তাক লাগিয়ে দিয়ে...  Entertainment   \n",
       "...                                                 ...            ...   \n",
       "2006          ভাইভা দিতে গিয়ে উল্টো ভাইভা নিলেন মোশাররফ  Entertainment   \n",
       "2007  জিয়াউর রহমান: বিএনপির প্রতিষ্ঠাতা ও সাবেক রাষ...       Politics   \n",
       "2008  খালেদা জিয়া’র ব্যাপারে আর কত করবো ? প্রশ্ন প্র...       Politics   \n",
       "2009  হাবলংগের বাজারে | Hablonger Bazare | Humayun A...  Entertainment   \n",
       "2010  বাধ্য হয়েই সুযোগ দেয়া হয়েছে তামিমকে ? | Tamim ...         Sports   \n",
       "\n",
       "                                                Comment  Error  \\\n",
       "0                           আওয়ামী লীগের এতো লোক ভয় পায়      0   \n",
       "1                                প্রাইস বললে হতো রে ইমন      1   \n",
       "2                                 সুন্দর হাসি ভালো লাগল      1   \n",
       "3                    সময় এসেছে আপনাদেরকে বিদায় জানাবার      0   \n",
       "4                                   চুল একটু বড় ভালো না      1   \n",
       "...                                                 ...    ...   \n",
       "2006                              এইরকম জীবনেও চাকরী না      0   \n",
       "2007        ঘটনায় আপনাদের সাংবাদিক কুমিল্লায় তথ্য যাইনি      0   \n",
       "2008                                          করব মরলনা      1   \n",
       "2009  হুমায়ূন আহমেদের তৈরি সোনার কাল্পনিক বাংলাদেশ ...      0   \n",
       "2010  একটা প্লেয়ার খেলবে ভালো কথা আনবে শুনবে দেখবে ...      1   \n",
       "\n",
       "             Category                                       Correct form  \n",
       "0                 NaN                                                NaN  \n",
       "1      Code Switching                          দাম টা বললে কি হতো রে ইমন  \n",
       "2            Spelling                          এত সুন্দর হাসি ভালো লাগলো  \n",
       "3                 NaN                                                NaN  \n",
       "4            Spelling                        চুল একটু বড় হলে ভালো হতো না  \n",
       "...               ...                                                ...  \n",
       "2006              NaN                                                NaN  \n",
       "2007              NaN                                                NaN  \n",
       "2008         Spelling                          আর কত করবো তাও তো মরলো না  \n",
       "2009              NaN                                                NaN  \n",
       "2010  Multiple Errors  নতুন একটা খেলোয়াড় খেলবে ভালো কথা আনবে শুনবে দে...  \n",
       "\n",
       "[2011 rows x 6 columns]"
      ]
     },
     "execution_count": 4,
     "metadata": {},
     "output_type": "execute_result"
    }
   ],
   "source": [
    "df_test"
   ]
  },
  {
   "cell_type": "code",
   "execution_count": 5,
   "id": "f7b0599f-423a-4454-8849-6039a24f55bc",
   "metadata": {
    "tags": []
   },
   "outputs": [],
   "source": [
    "Encoder = LabelEncoder()\n",
    "Train_Y = Encoder.fit_transform(df_train.Error)\n",
    "Test_Y = Encoder.fit_transform(df_test.Error)"
   ]
  },
  {
   "cell_type": "code",
   "execution_count": 6,
   "id": "97c66280-1ad5-4753-9741-4deea78b6dec",
   "metadata": {
    "tags": []
   },
   "outputs": [],
   "source": [
    "df_all  = pd.concat([df_train, df_test], ignore_index=True)\n",
    "Tfidf_vect = TfidfVectorizer(max_features=5000)\n",
    "Tfidf_vect.fit(df_all['Comment'])\n",
    "Train_X_Tfidf = Tfidf_vect.transform(df_train['Comment'])\n",
    "Test_X_Tfidf = Tfidf_vect.transform(df_test['Comment'])"
   ]
  },
  {
   "cell_type": "code",
   "execution_count": 7,
   "id": "15673495-99fe-4d7d-9eeb-4936d1b9a3dc",
   "metadata": {
    "tags": []
   },
   "outputs": [
    {
     "name": "stdout",
     "output_type": "stream",
     "text": [
      "              precision    recall  f1-score   support\n",
      "\n",
      "           0     0.6307    0.8663    0.7300      1167\n",
      "           1     0.6176    0.2986    0.4026       844\n",
      "\n",
      "    accuracy                         0.6280      2011\n",
      "   macro avg     0.6242    0.5825    0.5663      2011\n",
      "weighted avg     0.6252    0.6280    0.5926      2011\n",
      "\n"
     ]
    }
   ],
   "source": [
    "SVM = svm.SVC(C=1.0, kernel='linear', degree=3, gamma='auto')\n",
    "SVM.fit(Train_X_Tfidf,Train_Y)\n",
    "\n",
    "# predict the labels on validation dataset\n",
    "predictions_SVM = SVM.predict(Test_X_Tfidf)\n",
    "\n",
    "# Use accuracy_score function to get the accuracy\n",
    "print(metrics.classification_report(Test_Y, predictions_SVM,digits = 4))"
   ]
  }
 ],
 "metadata": {
  "kernelspec": {
   "display_name": "Python 3 (ipykernel)",
   "language": "python",
   "name": "python3"
  },
  "language_info": {
   "codemirror_mode": {
    "name": "ipython",
    "version": 3
   },
   "file_extension": ".py",
   "mimetype": "text/x-python",
   "name": "python",
   "nbconvert_exporter": "python",
   "pygments_lexer": "ipython3",
   "version": "3.11.3"
  }
 },
 "nbformat": 4,
 "nbformat_minor": 5
}
