{
 "cells": [
  {
   "cell_type": "code",
   "execution_count": 1,
   "id": "bd5018ba-c921-4f75-a1f2-08197cb21b19",
   "metadata": {
    "tags": []
   },
   "outputs": [],
   "source": [
    "import pandas as pd\n",
    "from sklearn.feature_extraction.text import TfidfVectorizer\n",
    "from sklearn import metrics\n",
    "from sklearn.metrics import classification_report\n",
    "from sklearn.preprocessing import LabelEncoder\n",
    "from sklearn.model_selection import GridSearchCV\n",
    "from sklearn import model_selection, naive_bayes, svm\n",
    "from sklearn.metrics import accuracy_score\n",
    "train_url = '/home/thinker/NLP/NLP/FromScratch/error detection/data/data/train_data.csv'\n",
    "test_url = '/home/thinker/NLP/NLP/FromScratch/error detection/data/data/test_data.csv'\n",
    "df_train = pd.read_csv(train_url)\n",
    "df_test = pd.read_csv(test_url)\n",
    "stop_words_df = pd.read_excel('/home/thinker/NLP/NLP/FromScratch/error detection/data/stopwords_bangla.xlsx',index_col=False)"
   ]
  },
  {
   "cell_type": "code",
   "execution_count": 2,
   "id": "9984917d-8f1e-4e13-bb61-fa28717e62d3",
   "metadata": {
    "tags": []
   },
   "outputs": [],
   "source": [
    "STOPWORDS = set([word.strip() for word in stop_words_df['words']])"
   ]
  },
  {
   "cell_type": "code",
   "execution_count": 3,
   "id": "df6d0a4f-41e7-4ad1-a3b0-016738e227ab",
   "metadata": {
    "tags": []
   },
   "outputs": [],
   "source": [
    "import re\n",
    "def preprocess(x):\n",
    "    html_pattern = re.compile('<.*?>')\n",
    "    x = html_pattern.sub(r'', x)\n",
    "    x = \" \".join([word for word in str(x).split() if word not in STOPWORDS])\n",
    "    return x\n",
    "df_train['Comment'] = df_train['Comment'].apply(lambda x: preprocess(x))\n",
    "df_test['Comment'] = df_test['Comment'].apply(lambda x:preprocess(x))"
   ]
  },
  {
   "cell_type": "code",
   "execution_count": 4,
   "id": "0d2aa16f-215a-4bfc-92a1-ea64a8d5f9c8",
   "metadata": {},
   "outputs": [],
   "source": [
    "def co(x):\n",
    "    d = ['Code Switching','Spelling','Multiple Errors','Grammatical']\n",
    "    s = set(d)\n",
    "    if x not in s:\n",
    "        return \"Correct\"\n",
    "    else:\n",
    "        return x\n",
    "df_train['Category'] = df_train['Category'].apply(lambda x:co(x))\n",
    "df_test['Category'] = df_test['Category'].apply(lambda x:co(x))"
   ]
  },
  {
   "cell_type": "code",
   "execution_count": 5,
   "id": "f7b0599f-423a-4454-8849-6039a24f55bc",
   "metadata": {
    "tags": []
   },
   "outputs": [],
   "source": [
    "Encoder = LabelEncoder()\n",
    "Train_Y = Encoder.fit_transform(df_train.Category)\n",
    "Test_Y = Encoder.fit_transform(df_test.Category)"
   ]
  },
  {
   "cell_type": "code",
   "execution_count": 6,
   "id": "97c66280-1ad5-4753-9741-4deea78b6dec",
   "metadata": {
    "tags": []
   },
   "outputs": [],
   "source": [
    "df_all  = pd.concat([df_train, df_test], ignore_index=True)\n",
    "Tfidf_vect = TfidfVectorizer(max_features=5000)\n",
    "Tfidf_vect.fit(df_all['Comment'])\n",
    "Train_X_Tfidf = Tfidf_vect.transform(df_train['Comment'])\n",
    "Test_X_Tfidf = Tfidf_vect.transform(df_test['Comment'])"
   ]
  },
  {
   "cell_type": "code",
   "execution_count": 7,
   "id": "f319aec3-9b64-4bb5-9075-83aba0a125cf",
   "metadata": {
    "tags": []
   },
   "outputs": [],
   "source": [
    "param_grid = {'alpha': [0.01, 0.1, 1.0]}\n",
    "grid_search = GridSearchCV(estimator=naive_bayes.MultinomialNB(), param_grid=param_grid, scoring='accuracy', cv=5)\n",
    "grid_search.fit(Train_X_Tfidf, Train_Y)\n",
    "best_nb_model = grid_search.best_estimator_"
   ]
  },
  {
   "cell_type": "code",
   "execution_count": 8,
   "id": "a5cfe246-25f7-43ad-bf94-a3b8c213c49a",
   "metadata": {
    "tags": []
   },
   "outputs": [],
   "source": [
    "def evaluate_model(model, test_data, test_labels):\n",
    "    predictions = model.predict(test_data)\n",
    "    report = classification_report(test_labels, predictions, digits=4)\n",
    "    print(report)"
   ]
  },
  {
   "cell_type": "code",
   "execution_count": 9,
   "id": "ba82b342-2c09-4d7f-b707-26c2fe5000d5",
   "metadata": {
    "tags": []
   },
   "outputs": [
    {
     "name": "stdout",
     "output_type": "stream",
     "text": [
      "Naive Bayes:\n",
      "              precision    recall  f1-score   support\n",
      "\n",
      "           0     0.7000    0.2658    0.3853       158\n",
      "           1     0.6129    0.9196    0.7356      1157\n",
      "           2     0.1053    0.0156    0.0272       128\n",
      "           3     0.1429    0.0145    0.0263        69\n",
      "           4     0.4497    0.1703    0.2471       499\n",
      "\n",
      "    accuracy                         0.5937      2011\n",
      "   macro avg     0.4022    0.2772    0.2843      2011\n",
      "weighted avg     0.5308    0.5937    0.5174      2011\n",
      "\n"
     ]
    }
   ],
   "source": [
    "print(\"Naive Bayes:\")\n",
    "evaluate_model(best_nb_model, Test_X_Tfidf, Test_Y)"
   ]
  }
 ],
 "metadata": {
  "kernelspec": {
   "display_name": "Python 3 (ipykernel)",
   "language": "python",
   "name": "python3"
  },
  "language_info": {
   "codemirror_mode": {
    "name": "ipython",
    "version": 3
   },
   "file_extension": ".py",
   "mimetype": "text/x-python",
   "name": "python",
   "nbconvert_exporter": "python",
   "pygments_lexer": "ipython3",
   "version": "3.11.3"
  }
 },
 "nbformat": 4,
 "nbformat_minor": 5
}
