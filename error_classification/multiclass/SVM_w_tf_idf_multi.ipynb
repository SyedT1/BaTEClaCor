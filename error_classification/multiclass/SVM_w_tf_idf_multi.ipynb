{
 "cells": [
  {
   "cell_type": "code",
   "execution_count": 1,
   "id": "bd5018ba-c921-4f75-a1f2-08197cb21b19",
   "metadata": {
    "tags": []
   },
   "outputs": [],
   "source": [
    "import pandas as pd\n",
    "from sklearn.feature_extraction.text import TfidfVectorizer\n",
    "from sklearn import metrics\n",
    "from sklearn.preprocessing import LabelEncoder\n",
    "from sklearn import model_selection, naive_bayes, svm\n",
    "from sklearn.metrics import accuracy_score\n",
    "train_url = '/home/thinker/NLP/NLP/FromScratch/error detection/data/data/train_data.csv'\n",
    "test_url = '/home/thinker/NLP/NLP/FromScratch/error detection/data/data/test_data.csv'\n",
    "df_train = pd.read_csv(train_url)\n",
    "df_test = pd.read_csv(test_url)\n",
    "stop_words_df = pd.read_excel('/home/thinker/NLP/NLP/FromScratch/error detection/data/stopwords_bangla.xlsx',index_col=False)"
   ]
  },
  {
   "cell_type": "code",
   "execution_count": 2,
   "id": "9984917d-8f1e-4e13-bb61-fa28717e62d3",
   "metadata": {
    "tags": []
   },
   "outputs": [],
   "source": [
    "STOPWORDS = set([word.strip() for word in stop_words_df['words']])"
   ]
  },
  {
   "cell_type": "code",
   "execution_count": 3,
   "id": "df6d0a4f-41e7-4ad1-a3b0-016738e227ab",
   "metadata": {
    "tags": []
   },
   "outputs": [],
   "source": [
    "import re\n",
    "def preprocess(x):\n",
    "    html_pattern = re.compile('<.*?>')\n",
    "    x = html_pattern.sub(r'', x)\n",
    "    x = \" \".join([word for word in str(x).split() if word not in STOPWORDS])\n",
    "    return x\n",
    "df_train['Comment'] = df_train['Comment'].apply(lambda x: preprocess(x))\n",
    "df_test['Comment'] = df_test['Comment'].apply(lambda x:preprocess(x))"
   ]
  },
  {
   "cell_type": "code",
   "execution_count": 4,
   "id": "52663cd8-3d13-4eab-81c3-2e7612faff9b",
   "metadata": {
    "tags": []
   },
   "outputs": [],
   "source": [
    "def co(x):\n",
    "    d = ['Code Switching','Spelling','Multiple Errors','Grammatical']\n",
    "    s = set(d)\n",
    "    if x not in s:\n",
    "        return \"Correct\"\n",
    "    else:\n",
    "        return x\n",
    "df_train['Category'] = df_train['Category'].apply(lambda x:co(x))\n",
    "df_test['Category'] = df_test['Category'].apply(lambda x:co(x))"
   ]
  },
  {
   "cell_type": "code",
   "execution_count": 5,
   "id": "a7b9879c-c4fd-4b61-b3bc-5948add9da6f",
   "metadata": {
    "tags": []
   },
   "outputs": [
    {
     "data": {
      "text/html": [
       "<div>\n",
       "<style scoped>\n",
       "    .dataframe tbody tr th:only-of-type {\n",
       "        vertical-align: middle;\n",
       "    }\n",
       "\n",
       "    .dataframe tbody tr th {\n",
       "        vertical-align: top;\n",
       "    }\n",
       "\n",
       "    .dataframe thead th {\n",
       "        text-align: right;\n",
       "    }\n",
       "</style>\n",
       "<table border=\"1\" class=\"dataframe\">\n",
       "  <thead>\n",
       "    <tr style=\"text-align: right;\">\n",
       "      <th></th>\n",
       "      <th>Video Title</th>\n",
       "      <th>Genre</th>\n",
       "      <th>Comment</th>\n",
       "      <th>Error</th>\n",
       "      <th>Category</th>\n",
       "      <th>Correct form</th>\n",
       "    </tr>\n",
       "  </thead>\n",
       "  <tbody>\n",
       "    <tr>\n",
       "      <th>0</th>\n",
       "      <td>ওবায়দুল কাদের বললেন, ‘খেলা হবে’; আর রুমিন ফারহ...</td>\n",
       "      <td>Politics</td>\n",
       "      <td>কাদের খেলব কাদের খেলতেই না</td>\n",
       "      <td>1</td>\n",
       "      <td>Grammatical</td>\n",
       "      <td>কাদের কি খেলবে কাদের তো খেলতেই পারে না</td>\n",
       "    </tr>\n",
       "    <tr>\n",
       "      <th>1</th>\n",
       "      <td>পুলিশের গাড়ির ওপর চড়াও বিএনপির কর্মীরা  | BN...</td>\n",
       "      <td>Politics</td>\n",
       "      <td>এসব আরো ঠাসা</td>\n",
       "      <td>1</td>\n",
       "      <td>Spelling</td>\n",
       "      <td>এসব করে আরো কোণঠাসা  হবে</td>\n",
       "    </tr>\n",
       "    <tr>\n",
       "      <th>2</th>\n",
       "      <td>Ayub Bachchu |  Ek Akash Tara | আইয়ুব বাচ্চু |...</td>\n",
       "      <td>Entertainment</td>\n",
       "      <td>যুগ যুগ গেথে গান</td>\n",
       "      <td>0</td>\n",
       "      <td>Correct</td>\n",
       "      <td>NaN</td>\n",
       "    </tr>\n",
       "    <tr>\n",
       "      <th>3</th>\n",
       "      <td>যে প্রেম কাহিনী কোন বাধা মানেনি | BBC Bangla</td>\n",
       "      <td>Miscellaneous</td>\n",
       "      <td>অাচছা অাপু এলাজী থাকলে টিকা জাবেনা</td>\n",
       "      <td>1</td>\n",
       "      <td>Spelling</td>\n",
       "      <td>আচ্ছা আপু এলার্জী থাকলে টিকা নেওয়া যাবেনা</td>\n",
       "    </tr>\n",
       "    <tr>\n",
       "      <th>4</th>\n",
       "      <td>তুরস্কের চেয়ে ভয়াবহ ভূমিকম্পের ঝুঁকিতে বাংলাদে...</td>\n",
       "      <td>News</td>\n",
       "      <td>হে আল্লাহ জালিমদের সন্তান সন্তদের হেফাজত</td>\n",
       "      <td>0</td>\n",
       "      <td>Correct</td>\n",
       "      <td>NaN</td>\n",
       "    </tr>\n",
       "    <tr>\n",
       "      <th>...</th>\n",
       "      <td>...</td>\n",
       "      <td>...</td>\n",
       "      <td>...</td>\n",
       "      <td>...</td>\n",
       "      <td>...</td>\n",
       "      <td>...</td>\n",
       "    </tr>\n",
       "    <tr>\n",
       "      <th>8031</th>\n",
       "      <td>Shitom Ahmed - Chorabali (Lyrics) || কেন লাগে ...</td>\n",
       "      <td>Entertainment</td>\n",
       "      <td>সত্যি শুন্য লাগে</td>\n",
       "      <td>0</td>\n",
       "      <td>Correct</td>\n",
       "      <td>NaN</td>\n",
       "    </tr>\n",
       "    <tr>\n",
       "      <th>8032</th>\n",
       "      <td>হৃদয় ছুঁয়ে যাওয়া ৭টি সেরা ইমোশনাল বিজ্ঞাপন ...</td>\n",
       "      <td>Entertainment</td>\n",
       "      <td>বিজ্ঞাপন গুলো চোখে পানি আসলো ভাই</td>\n",
       "      <td>0</td>\n",
       "      <td>Correct</td>\n",
       "      <td>NaN</td>\n",
       "    </tr>\n",
       "    <tr>\n",
       "      <th>8033</th>\n",
       "      <td>আইপিএলের নিলাম তালিকায় পাঁচ বাংলাদেশি | IPL | ...</td>\n",
       "      <td>Sports</td>\n",
       "      <td>টাকা সবদিক</td>\n",
       "      <td>1</td>\n",
       "      <td>Spelling</td>\n",
       "      <td>একবার যখন টাকা হয় তখন সব দিক দিয়ে আসে</td>\n",
       "    </tr>\n",
       "    <tr>\n",
       "      <th>8034</th>\n",
       "      <td>মাহমুদুল্লাহর সেরা ১০টি ইনিংস || 10 Greatest I...</td>\n",
       "      <td>Sports</td>\n",
       "      <td>অসাধারণ ইউটিউব ভিডিও সাথে চমৎকার ব্যাকগ্রাউন্ড</td>\n",
       "      <td>0</td>\n",
       "      <td>Correct</td>\n",
       "      <td>NaN</td>\n",
       "    </tr>\n",
       "    <tr>\n",
       "      <th>8035</th>\n",
       "      <td>Ural Debo Akashe | উড়াল দেব আকাশে | Ayub Bachc...</td>\n",
       "      <td>Entertainment</td>\n",
       "      <td>উড়াল দেব আকাশে</td>\n",
       "      <td>0</td>\n",
       "      <td>Correct</td>\n",
       "      <td>NaN</td>\n",
       "    </tr>\n",
       "  </tbody>\n",
       "</table>\n",
       "<p>8036 rows × 6 columns</p>\n",
       "</div>"
      ],
      "text/plain": [
       "                                            Video Title          Genre  \\\n",
       "0     ওবায়দুল কাদের বললেন, ‘খেলা হবে’; আর রুমিন ফারহ...       Politics   \n",
       "1     পুলিশের গাড়ির ওপর চড়াও বিএনপির কর্মীরা  | BN...       Politics   \n",
       "2     Ayub Bachchu |  Ek Akash Tara | আইয়ুব বাচ্চু |...  Entertainment   \n",
       "3         যে প্রেম কাহিনী কোন বাধা মানেনি | BBC Bangla  Miscellaneous   \n",
       "4     তুরস্কের চেয়ে ভয়াবহ ভূমিকম্পের ঝুঁকিতে বাংলাদে...           News   \n",
       "...                                                 ...            ...   \n",
       "8031  Shitom Ahmed - Chorabali (Lyrics) || কেন লাগে ...  Entertainment   \n",
       "8032  হৃদয় ছুঁয়ে যাওয়া ৭টি সেরা ইমোশনাল বিজ্ঞাপন ...  Entertainment   \n",
       "8033  আইপিএলের নিলাম তালিকায় পাঁচ বাংলাদেশি | IPL | ...         Sports   \n",
       "8034  মাহমুদুল্লাহর সেরা ১০টি ইনিংস || 10 Greatest I...         Sports   \n",
       "8035  Ural Debo Akashe | উড়াল দেব আকাশে | Ayub Bachc...  Entertainment   \n",
       "\n",
       "                                             Comment  Error     Category  \\\n",
       "0                         কাদের খেলব কাদের খেলতেই না      1  Grammatical   \n",
       "1                                       এসব আরো ঠাসা      1     Spelling   \n",
       "2                                   যুগ যুগ গেথে গান      0      Correct   \n",
       "3                 অাচছা অাপু এলাজী থাকলে টিকা জাবেনা      1     Spelling   \n",
       "4           হে আল্লাহ জালিমদের সন্তান সন্তদের হেফাজত      0      Correct   \n",
       "...                                              ...    ...          ...   \n",
       "8031                                সত্যি শুন্য লাগে      0      Correct   \n",
       "8032                বিজ্ঞাপন গুলো চোখে পানি আসলো ভাই      0      Correct   \n",
       "8033                                      টাকা সবদিক      1     Spelling   \n",
       "8034  অসাধারণ ইউটিউব ভিডিও সাথে চমৎকার ব্যাকগ্রাউন্ড      0      Correct   \n",
       "8035                                  উড়াল দেব আকাশে      0      Correct   \n",
       "\n",
       "                                   Correct form  \n",
       "0        কাদের কি খেলবে কাদের তো খেলতেই পারে না  \n",
       "1                      এসব করে আরো কোণঠাসা  হবে  \n",
       "2                                           NaN  \n",
       "3     আচ্ছা আপু এলার্জী থাকলে টিকা নেওয়া যাবেনা  \n",
       "4                                           NaN  \n",
       "...                                         ...  \n",
       "8031                                        NaN  \n",
       "8032                                        NaN  \n",
       "8033    একবার যখন টাকা হয় তখন সব দিক দিয়ে আসে  \n",
       "8034                                        NaN  \n",
       "8035                                        NaN  \n",
       "\n",
       "[8036 rows x 6 columns]"
      ]
     },
     "execution_count": 5,
     "metadata": {},
     "output_type": "execute_result"
    }
   ],
   "source": [
    "df_train"
   ]
  },
  {
   "cell_type": "code",
   "execution_count": 6,
   "id": "f7b0599f-423a-4454-8849-6039a24f55bc",
   "metadata": {
    "tags": []
   },
   "outputs": [],
   "source": [
    "Encoder = LabelEncoder()\n",
    "Train_Y = Encoder.fit_transform(df_train.Category)\n",
    "Test_Y = Encoder.fit_transform(df_test.Category)"
   ]
  },
  {
   "cell_type": "code",
   "execution_count": 7,
   "id": "97c66280-1ad5-4753-9741-4deea78b6dec",
   "metadata": {
    "tags": []
   },
   "outputs": [],
   "source": [
    "df_all  = pd.concat([df_train, df_test], ignore_index=True)\n",
    "Tfidf_vect = TfidfVectorizer(max_features=5000)\n",
    "Tfidf_vect.fit(df_all['Comment'])\n",
    "Train_X_Tfidf = Tfidf_vect.transform(df_train['Comment'])\n",
    "Test_X_Tfidf = Tfidf_vect.transform(df_test['Comment'])"
   ]
  },
  {
   "cell_type": "code",
   "execution_count": 8,
   "id": "15673495-99fe-4d7d-9eeb-4936d1b9a3dc",
   "metadata": {
    "tags": []
   },
   "outputs": [
    {
     "name": "stdout",
     "output_type": "stream",
     "text": [
      "              precision    recall  f1-score   support\n",
      "\n",
      "           0     0.8209    0.3481    0.4889       158\n",
      "           1     0.6096    0.9473    0.7418      1157\n",
      "           2     0.5625    0.0703    0.1250       128\n",
      "           3     0.5000    0.0145    0.0282        69\n",
      "           4     0.4844    0.1242    0.1978       499\n",
      "\n",
      "    accuracy                         0.6082      2011\n",
      "   macro avg     0.5955    0.3009    0.3163      2011\n",
      "weighted avg     0.5884    0.6082    0.5232      2011\n",
      "\n"
     ]
    }
   ],
   "source": [
    "SVM = svm.SVC(C=1.0, kernel='linear', degree=3, gamma='auto')\n",
    "SVM.fit(Train_X_Tfidf,Train_Y)\n",
    "\n",
    "# predict the labels on validation dataset\n",
    "predictions_SVM = SVM.predict(Test_X_Tfidf)\n",
    "\n",
    "# Use accuracy_score function to get the accuracy\n",
    "print(metrics.classification_report(Test_Y, predictions_SVM,digits = 4))"
   ]
  }
 ],
 "metadata": {
  "kernelspec": {
   "display_name": "Python 3 (ipykernel)",
   "language": "python",
   "name": "python3"
  },
  "language_info": {
   "codemirror_mode": {
    "name": "ipython",
    "version": 3
   },
   "file_extension": ".py",
   "mimetype": "text/x-python",
   "name": "python",
   "nbconvert_exporter": "python",
   "pygments_lexer": "ipython3",
   "version": "3.11.3"
  }
 },
 "nbformat": 4,
 "nbformat_minor": 5
}
