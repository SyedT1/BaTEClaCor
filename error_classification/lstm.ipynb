{
 "cells": [
  {
   "cell_type": "code",
   "execution_count": 1,
   "id": "0180b348-41d1-4073-8412-2eb653543313",
   "metadata": {
    "tags": []
   },
   "outputs": [
    {
     "name": "stderr",
     "output_type": "stream",
     "text": [
      "2023-08-19 03:34:44.925902: I tensorflow/tsl/cuda/cudart_stub.cc:28] Could not find cuda drivers on your machine, GPU will not be used.\n",
      "2023-08-19 03:34:44.958820: I tensorflow/tsl/cuda/cudart_stub.cc:28] Could not find cuda drivers on your machine, GPU will not be used.\n",
      "2023-08-19 03:34:44.959925: I tensorflow/core/platform/cpu_feature_guard.cc:182] This TensorFlow binary is optimized to use available CPU instructions in performance-critical operations.\n",
      "To enable the following instructions: AVX2 FMA, in other operations, rebuild TensorFlow with the appropriate compiler flags.\n",
      "2023-08-19 03:34:45.703033: W tensorflow/compiler/tf2tensorrt/utils/py_utils.cc:38] TF-TRT Warning: Could not find TensorRT\n"
     ]
    }
   ],
   "source": [
    "import numpy as np\n",
    "import pandas as pd\n",
    "import seaborn as sns\n",
    "import matplotlib.pyplot as plt\n",
    "import plotly.express as px\n",
    "import plotly.graph_objects as go\n",
    "\n",
    "from nltk.corpus import stopwords\n",
    "from nltk.stem import WordNetLemmatizer\n",
    "from nltk.stem.snowball import SnowballStemmer\n",
    "from nltk.tokenize import word_tokenize, sent_tokenize\n",
    "\n",
    "from nlpaug.util import Action\n",
    "import nlpaug.augmenter.word as word_augmenter\n",
    "\n",
    "from sklearn.model_selection import train_test_split\n",
    "from sklearn.metrics import classification_report, confusion_matrix\n",
    "\n",
    "import tensorflow as tf\n",
    "from tensorflow.keras.utils import plot_model\n",
    "from tensorflow.keras.models import Model, Sequential\n",
    "from tensorflow.keras.preprocessing.text import one_hot\n",
    "from tensorflow.keras.preprocessing.sequence import pad_sequences\n",
    "from tensorflow.keras.layers import Embedding, Dense, Dropout, Flatten, Bidirectional, LSTM, GRU\n"
   ]
  },
  {
   "cell_type": "code",
   "execution_count": 2,
   "id": "e9d7e088-9d42-4484-b626-b85446ec2ae2",
   "metadata": {
    "tags": []
   },
   "outputs": [],
   "source": [
    "train_url = '/home/thinker/NLP/NLP/FromScratch/RNN_LSTM_GRU/error detection/data/data/train_data.csv'\n",
    "test_url = '/home/thinker/NLP/NLP/FromScratch/RNN_LSTM_GRU/error detection/data/data/test_data.csv'\n",
    "df_train = pd.read_csv(train_url)\n",
    "df_test = pd.read_csv(test_url)\n",
    "stop_words_df = pd.read_excel('/home/thinker/NLP/NLP/FromScratch/RNN_LSTM_GRU/error detection/data/stopwords_bangla.xlsx',index_col=False)"
   ]
  },
  {
   "cell_type": "code",
   "execution_count": 5,
   "id": "dd8fb24a-8aa7-4423-8c25-9db4af1614da",
   "metadata": {},
   "outputs": [],
   "source": [
    "STOPWORDS = set([word.strip() for word in stop_words_df['words']])"
   ]
  },
  {
   "cell_type": "code",
   "execution_count": 6,
   "id": "c457697f-a989-4793-841e-f144b6071100",
   "metadata": {
    "tags": []
   },
   "outputs": [],
   "source": [
    "import re\n",
    "def preprocess(x):\n",
    "    html_pattern = re.compile('<.*?>')\n",
    "    x = html_pattern.sub(r'', x)\n",
    "    x = \" \".join([word for word in str(x).split() if word not in STOPWORDS])\n",
    "    return x\n",
    "df_train['Comment'] = df_train['Comment'].apply(lambda x: preprocess(x))\n",
    "df_test['Comment'] = df_test['Comment'].apply(lambda x:preprocess(x))"
   ]
  },
  {
   "cell_type": "code",
   "execution_count": 8,
   "id": "7bb4f332-d2d2-4450-ab86-88331a3afb51",
   "metadata": {
    "tags": []
   },
   "outputs": [],
   "source": [
    "message_train = df_train['Comment'].values\n",
    "message_test = df_test['Comment'].values\n",
    "category_train = df_train['Error'].values\n",
    "category_test = df_test['Error'].values\n"
   ]
  },
  {
   "cell_type": "code",
   "execution_count": 10,
   "id": "8240d084-58ac-469b-b036-98aefda6c518",
   "metadata": {
    "tags": []
   },
   "outputs": [],
   "source": [
    "mx = 0\n",
    "for i in df_train['Comment']:\n",
    "    mx = max(mx,len(i))\n",
    "for i in df_test['Comment']:\n",
    "    mx = max(mx,len(i))\n",
    "VOCAB_SIZE = 1000\n",
    "MAX_LEN = mx\n",
    "EMBEDDING_VECTOR_SIZE = 6"
   ]
  },
  {
   "cell_type": "code",
   "execution_count": 11,
   "id": "7a13ec41-bd0b-4304-9981-e5634a888f03",
   "metadata": {
    "tags": []
   },
   "outputs": [],
   "source": [
    "encoded_message_train = [one_hot(msg,VOCAB_SIZE) for msg in message_train]\n",
    "encoded_message_test = [one_hot(msg,VOCAB_SIZE) for msg in message_test]"
   ]
  },
  {
   "cell_type": "code",
   "execution_count": 12,
   "id": "703753dc-ae2c-484d-9aca-76c7b1c17741",
   "metadata": {
    "tags": []
   },
   "outputs": [],
   "source": [
    "padded_message_train = pad_sequences(encoded_message_train, maxlen=MAX_LEN, padding='post')\n",
    "padded_message_test = pad_sequences(encoded_message_test, maxlen=MAX_LEN, padding='post')"
   ]
  },
  {
   "cell_type": "code",
   "execution_count": 13,
   "id": "569e03d0-ab7c-4257-b613-d15713e24e6c",
   "metadata": {
    "tags": []
   },
   "outputs": [],
   "source": [
    "X_train = padded_message_train\n",
    "X_test = padded_message_test\n",
    "y_train = category_train\n",
    "y_test = category_test"
   ]
  },
  {
   "cell_type": "code",
   "execution_count": 14,
   "id": "7f8f4762-a38d-43fd-90b6-267b9c0de5f3",
   "metadata": {
    "tags": []
   },
   "outputs": [],
   "source": [
    "model = Sequential()\n",
    "model.add(Embedding(VOCAB_SIZE, EMBEDDING_VECTOR_SIZE, input_length = MAX_LEN, name='Embedding'))\n",
    "model.add(Bidirectional(LSTM(128, return_sequences=True)))\n",
    "model.add(Bidirectional(GRU(64)))\n",
    "model.add(Flatten())\n",
    "model.add(Dropout(0.2))\n",
    "model.add(Dense(32, activation='relu'))\n",
    "model.add(Dense(1, activation='sigmoid'))\n"
   ]
  },
  {
   "cell_type": "code",
   "execution_count": 15,
   "id": "5cf748f2-8de8-4604-a8d4-e227b4cedff6",
   "metadata": {
    "tags": []
   },
   "outputs": [
    {
     "name": "stdout",
     "output_type": "stream",
     "text": [
      "Model: \"sequential\"\n",
      "_________________________________________________________________\n",
      " Layer (type)                Output Shape              Param #   \n",
      "=================================================================\n",
      " Embedding (Embedding)       (None, 317, 6)            6000      \n",
      "                                                                 \n",
      " bidirectional (Bidirection  (None, 317, 256)          138240    \n",
      " al)                                                             \n",
      "                                                                 \n",
      " bidirectional_1 (Bidirecti  (None, 128)               123648    \n",
      " onal)                                                           \n",
      "                                                                 \n",
      " flatten (Flatten)           (None, 128)               0         \n",
      "                                                                 \n",
      " dropout (Dropout)           (None, 128)               0         \n",
      "                                                                 \n",
      " dense (Dense)               (None, 32)                4128      \n",
      "                                                                 \n",
      " dense_1 (Dense)             (None, 1)                 33        \n",
      "                                                                 \n",
      "=================================================================\n",
      "Total params: 272049 (1.04 MB)\n",
      "Trainable params: 272049 (1.04 MB)\n",
      "Non-trainable params: 0 (0.00 Byte)\n",
      "_________________________________________________________________\n"
     ]
    }
   ],
   "source": [
    "model.summary()"
   ]
  },
  {
   "cell_type": "code",
   "execution_count": 16,
   "id": "7fc367bf-e031-4e80-99dd-7a6723ef90c5",
   "metadata": {
    "tags": []
   },
   "outputs": [],
   "source": [
    "model.compile(optimizer='adam',\n",
    "              loss='binary_crossentropy',\n",
    "              metrics=['accuracy'])"
   ]
  },
  {
   "cell_type": "code",
   "execution_count": 17,
   "id": "e1e93164-6e30-465e-9e56-9d38ffa8aa1b",
   "metadata": {
    "tags": []
   },
   "outputs": [
    {
     "name": "stdout",
     "output_type": "stream",
     "text": [
      "Epoch 1/15\n",
      "81/81 [==============================] - 52s 588ms/step - loss: 0.6737 - accuracy: 0.5911 - val_loss: 0.6488 - val_accuracy: 0.6315\n",
      "Epoch 2/15\n",
      "81/81 [==============================] - 47s 579ms/step - loss: 0.6170 - accuracy: 0.6628 - val_loss: 0.6408 - val_accuracy: 0.6330\n",
      "Epoch 3/15\n",
      "81/81 [==============================] - 49s 605ms/step - loss: 0.5767 - accuracy: 0.7076 - val_loss: 0.6825 - val_accuracy: 0.6196\n",
      "Epoch 4/15\n",
      "81/81 [==============================] - 52s 638ms/step - loss: 0.5606 - accuracy: 0.7218 - val_loss: 0.6584 - val_accuracy: 0.6479\n",
      "Epoch 5/15\n",
      "81/81 [==============================] - 54s 669ms/step - loss: 0.5529 - accuracy: 0.7332 - val_loss: 0.6649 - val_accuracy: 0.6370\n",
      "Epoch 6/15\n",
      "81/81 [==============================] - 61s 751ms/step - loss: 0.5450 - accuracy: 0.7386 - val_loss: 0.6758 - val_accuracy: 0.6430\n",
      "Epoch 7/15\n",
      "81/81 [==============================] - 63s 776ms/step - loss: 0.5435 - accuracy: 0.7425 - val_loss: 0.6533 - val_accuracy: 0.6415\n",
      "Epoch 8/15\n",
      "81/81 [==============================] - 65s 802ms/step - loss: 0.5358 - accuracy: 0.7509 - val_loss: 0.6677 - val_accuracy: 0.6400\n",
      "Epoch 9/15\n",
      "81/81 [==============================] - 57s 707ms/step - loss: 0.5288 - accuracy: 0.7520 - val_loss: 0.7186 - val_accuracy: 0.6430\n",
      "Epoch 10/15\n",
      "81/81 [==============================] - 57s 702ms/step - loss: 0.7867 - accuracy: 0.5663 - val_loss: 0.6826 - val_accuracy: 0.5803\n",
      "Epoch 11/15\n",
      "81/81 [==============================] - 58s 714ms/step - loss: 0.6792 - accuracy: 0.5760 - val_loss: 0.6766 - val_accuracy: 0.5803\n",
      "Epoch 12/15\n",
      "81/81 [==============================] - 58s 713ms/step - loss: 0.6116 - accuracy: 0.6773 - val_loss: 0.6697 - val_accuracy: 0.6261\n",
      "Epoch 13/15\n",
      "81/81 [==============================] - 59s 731ms/step - loss: 0.5614 - accuracy: 0.7342 - val_loss: 0.6833 - val_accuracy: 0.6206\n",
      "Epoch 14/15\n",
      "81/81 [==============================] - 57s 707ms/step - loss: 0.5475 - accuracy: 0.7424 - val_loss: 0.6942 - val_accuracy: 0.6271\n",
      "Epoch 15/15\n",
      "81/81 [==============================] - 58s 713ms/step - loss: 0.5372 - accuracy: 0.7578 - val_loss: 0.7048 - val_accuracy: 0.6146\n"
     ]
    }
   ],
   "source": [
    "history = model.fit(X_train, y_train, validation_data = (X_test,y_test), epochs=15, batch_size=100)"
   ]
  },
  {
   "cell_type": "code",
   "execution_count": 18,
   "id": "57400be2-1246-407d-abcf-38603a6f7eba",
   "metadata": {
    "tags": []
   },
   "outputs": [
    {
     "name": "stdout",
     "output_type": "stream",
     "text": [
      "63/63 [==============================] - 5s 81ms/step - loss: 0.7048 - accuracy: 0.6146\n"
     ]
    }
   ],
   "source": [
    "loss, acc = model.evaluate(X_test, y_test)"
   ]
  },
  {
   "cell_type": "code",
   "execution_count": 19,
   "id": "2c19791a-ceec-43a0-8e47-247ac0a68cd0",
   "metadata": {
    "tags": []
   },
   "outputs": [
    {
     "name": "stdout",
     "output_type": "stream",
     "text": [
      "Accuracy on unseen data is: 61.0 %\n",
      "Loss on unseen data is: 70.0 %\n"
     ]
    }
   ],
   "source": [
    "acc = np.round(acc, 2) * 100 \n",
    "loss = np.round(loss, 2) * 100\n",
    "\n",
    "print(f\"Accuracy on unseen data is: { acc } %\")\n",
    "print(f'Loss on unseen data is: { loss } %')"
   ]
  },
  {
   "cell_type": "code",
   "execution_count": 20,
   "id": "0a504286-2513-4d66-b23c-bcf5db613a95",
   "metadata": {
    "tags": []
   },
   "outputs": [
    {
     "name": "stdout",
     "output_type": "stream",
     "text": [
      "63/63 [==============================] - 6s 80ms/step\n"
     ]
    }
   ],
   "source": [
    "pred = (model.predict(X_test) > 0.5).astype(\"int32\")"
   ]
  },
  {
   "cell_type": "code",
   "execution_count": 21,
   "id": "367bb288-8f42-4926-a0d8-bbf748261089",
   "metadata": {
    "tags": []
   },
   "outputs": [
    {
     "name": "stdout",
     "output_type": "stream",
     "text": [
      "              precision    recall  f1-score   support\n",
      "\n",
      "     Correct       0.67      0.66      0.67      1167\n",
      "   Incorrect       0.54      0.55      0.55       844\n",
      "\n",
      "    accuracy                           0.61      2011\n",
      "   macro avg       0.61      0.61      0.61      2011\n",
      "weighted avg       0.62      0.61      0.62      2011\n",
      "\n"
     ]
    }
   ],
   "source": [
    "print(classification_report(y_test, pred, target_names = ['Correct','Incorrect']))"
   ]
  }
 ],
 "metadata": {
  "kernelspec": {
   "display_name": "Python 3 (ipykernel)",
   "language": "python",
   "name": "python3"
  },
  "language_info": {
   "codemirror_mode": {
    "name": "ipython",
    "version": 3
   },
   "file_extension": ".py",
   "mimetype": "text/x-python",
   "name": "python",
   "nbconvert_exporter": "python",
   "pygments_lexer": "ipython3",
   "version": "3.11.3"
  }
 },
 "nbformat": 4,
 "nbformat_minor": 5
}
